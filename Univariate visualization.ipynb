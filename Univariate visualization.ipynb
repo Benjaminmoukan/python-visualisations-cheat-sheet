{
 "cells": [
  {
   "cell_type": "code",
   "execution_count": 1,
   "id": "f6587216",
   "metadata": {},
   "outputs": [],
   "source": [
    "import numpy as np\n",
    "import pandas as pd\n",
    "import matplotlib.pyplot as plt\n",
    "import seaborn as sb\n",
    "\n",
    "%matplotlib inline"
   ]
  },
  {
   "cell_type": "code",
   "execution_count": 2,
   "id": "075ac01f",
   "metadata": {},
   "outputs": [
    {
     "name": "stdout",
     "output_type": "stream",
     "text": [
      "(807, 14)\n"
     ]
    },
    {
     "data": {
      "text/html": [
       "<div>\n",
       "<style scoped>\n",
       "    .dataframe tbody tr th:only-of-type {\n",
       "        vertical-align: middle;\n",
       "    }\n",
       "\n",
       "    .dataframe tbody tr th {\n",
       "        vertical-align: top;\n",
       "    }\n",
       "\n",
       "    .dataframe thead th {\n",
       "        text-align: right;\n",
       "    }\n",
       "</style>\n",
       "<table border=\"1\" class=\"dataframe\">\n",
       "  <thead>\n",
       "    <tr style=\"text-align: right;\">\n",
       "      <th></th>\n",
       "      <th>id</th>\n",
       "      <th>species</th>\n",
       "      <th>generation_id</th>\n",
       "      <th>height</th>\n",
       "      <th>weight</th>\n",
       "      <th>base_experience</th>\n",
       "      <th>type_1</th>\n",
       "      <th>type_2</th>\n",
       "      <th>hp</th>\n",
       "      <th>attack</th>\n",
       "      <th>defense</th>\n",
       "      <th>speed</th>\n",
       "      <th>special-attack</th>\n",
       "      <th>special-defense</th>\n",
       "    </tr>\n",
       "  </thead>\n",
       "  <tbody>\n",
       "    <tr>\n",
       "      <th>0</th>\n",
       "      <td>1</td>\n",
       "      <td>bulbasaur</td>\n",
       "      <td>1</td>\n",
       "      <td>0.7</td>\n",
       "      <td>6.9</td>\n",
       "      <td>64</td>\n",
       "      <td>grass</td>\n",
       "      <td>poison</td>\n",
       "      <td>45</td>\n",
       "      <td>49</td>\n",
       "      <td>49</td>\n",
       "      <td>45</td>\n",
       "      <td>65</td>\n",
       "      <td>65</td>\n",
       "    </tr>\n",
       "    <tr>\n",
       "      <th>1</th>\n",
       "      <td>2</td>\n",
       "      <td>ivysaur</td>\n",
       "      <td>1</td>\n",
       "      <td>1.0</td>\n",
       "      <td>13.0</td>\n",
       "      <td>142</td>\n",
       "      <td>grass</td>\n",
       "      <td>poison</td>\n",
       "      <td>60</td>\n",
       "      <td>62</td>\n",
       "      <td>63</td>\n",
       "      <td>60</td>\n",
       "      <td>80</td>\n",
       "      <td>80</td>\n",
       "    </tr>\n",
       "    <tr>\n",
       "      <th>2</th>\n",
       "      <td>3</td>\n",
       "      <td>venusaur</td>\n",
       "      <td>1</td>\n",
       "      <td>2.0</td>\n",
       "      <td>100.0</td>\n",
       "      <td>236</td>\n",
       "      <td>grass</td>\n",
       "      <td>poison</td>\n",
       "      <td>80</td>\n",
       "      <td>82</td>\n",
       "      <td>83</td>\n",
       "      <td>80</td>\n",
       "      <td>100</td>\n",
       "      <td>100</td>\n",
       "    </tr>\n",
       "    <tr>\n",
       "      <th>3</th>\n",
       "      <td>4</td>\n",
       "      <td>charmander</td>\n",
       "      <td>1</td>\n",
       "      <td>0.6</td>\n",
       "      <td>8.5</td>\n",
       "      <td>62</td>\n",
       "      <td>fire</td>\n",
       "      <td>NaN</td>\n",
       "      <td>39</td>\n",
       "      <td>52</td>\n",
       "      <td>43</td>\n",
       "      <td>65</td>\n",
       "      <td>60</td>\n",
       "      <td>50</td>\n",
       "    </tr>\n",
       "    <tr>\n",
       "      <th>4</th>\n",
       "      <td>5</td>\n",
       "      <td>charmeleon</td>\n",
       "      <td>1</td>\n",
       "      <td>1.1</td>\n",
       "      <td>19.0</td>\n",
       "      <td>142</td>\n",
       "      <td>fire</td>\n",
       "      <td>NaN</td>\n",
       "      <td>58</td>\n",
       "      <td>64</td>\n",
       "      <td>58</td>\n",
       "      <td>80</td>\n",
       "      <td>80</td>\n",
       "      <td>65</td>\n",
       "    </tr>\n",
       "  </tbody>\n",
       "</table>\n",
       "</div>"
      ],
      "text/plain": [
       "   id     species  generation_id  height  weight  base_experience type_1  \\\n",
       "0   1   bulbasaur              1     0.7     6.9               64  grass   \n",
       "1   2     ivysaur              1     1.0    13.0              142  grass   \n",
       "2   3    venusaur              1     2.0   100.0              236  grass   \n",
       "3   4  charmander              1     0.6     8.5               62   fire   \n",
       "4   5  charmeleon              1     1.1    19.0              142   fire   \n",
       "\n",
       "   type_2  hp  attack  defense  speed  special-attack  special-defense  \n",
       "0  poison  45      49       49     45              65               65  \n",
       "1  poison  60      62       63     60              80               80  \n",
       "2  poison  80      82       83     80             100              100  \n",
       "3     NaN  39      52       43     65              60               50  \n",
       "4     NaN  58      64       58     80              80               65  "
      ]
     },
     "execution_count": 2,
     "metadata": {},
     "output_type": "execute_result"
    }
   ],
   "source": [
    "df = pd.read_csv(\"pokemon.csv\")\n",
    "print(df.shape)\n",
    "df.head()"
   ]
  },
  {
   "cell_type": "code",
   "execution_count": 5,
   "id": "136bfaff",
   "metadata": {
    "scrolled": true
   },
   "outputs": [
    {
     "name": "stdout",
     "output_type": "stream",
     "text": [
      "<class 'pandas.core.frame.DataFrame'>\n",
      "RangeIndex: 807 entries, 0 to 806\n",
      "Data columns (total 14 columns):\n",
      " #   Column           Non-Null Count  Dtype  \n",
      "---  ------           --------------  -----  \n",
      " 0   id               807 non-null    int64  \n",
      " 1   species          807 non-null    object \n",
      " 2   generation_id    807 non-null    int64  \n",
      " 3   height           807 non-null    float64\n",
      " 4   weight           807 non-null    float64\n",
      " 5   base_experience  807 non-null    int64  \n",
      " 6   type_1           807 non-null    object \n",
      " 7   type_2           405 non-null    object \n",
      " 8   hp               807 non-null    int64  \n",
      " 9   attack           807 non-null    int64  \n",
      " 10  defense          807 non-null    int64  \n",
      " 11  speed            807 non-null    int64  \n",
      " 12  special-attack   807 non-null    int64  \n",
      " 13  special-defense  807 non-null    int64  \n",
      "dtypes: float64(2), int64(9), object(3)\n",
      "memory usage: 88.4+ KB\n"
     ]
    }
   ],
   "source": [
    "df.info()"
   ]
  },
  {
   "cell_type": "markdown",
   "id": "2c302e79",
   "metadata": {},
   "source": [
    "## Some Categorical Variables"
   ]
  },
  {
   "cell_type": "markdown",
   "id": "f0ebf7b7",
   "metadata": {},
   "source": [
    "#### generation_id"
   ]
  },
  {
   "cell_type": "code",
   "execution_count": 14,
   "id": "128836e6",
   "metadata": {},
   "outputs": [
    {
     "data": {
      "image/png": "[encoded data removed]",
      "text/plain": [
       "<Figure size 432x288 with 1 Axes>"
      ]
     },
     "metadata": {
      "needs_background": "light"
     },
     "output_type": "display_data"
    }
   ],
   "source": [
    "gen_count = df.generation_id.value_counts()\n",
    "base_color = sb.color_palette()[0]\n",
    "sb.countplot(data=df, x='generation_id', color=color, order=gen_count.index);"
   ]
  },
  {
   "cell_type": "markdown",
   "id": "c7307e55",
   "metadata": {},
   "source": [
    "#### pokemon_type_1"
   ]
  },
  {
   "cell_type": "code",
   "execution_count": 20,
   "id": "3dea42ed",
   "metadata": {},
   "outputs": [
    {
     "data": {
      "image/png": "[encoded data removed]",
      "text/plain": [
       "<Figure size 432x288 with 1 Axes>"
      ]
     },
     "metadata": {
      "needs_background": "light"
     },
     "output_type": "display_data"
    }
   ],
   "source": [
    "type_count = df.type_1.value_counts()\n",
    "sb.countplot(data=df, x='type_1', color=base_color, order=type_count.index)\n",
    "plt.xticks(rotation=90);"
   ]
  },
  {
   "cell_type": "code",
   "execution_count": 22,
   "id": "eee70b37",
   "metadata": {},
   "outputs": [
    {
     "data": {
      "image/png": "[encoded data removed]",
      "text/plain": [
       "<Figure size 432x288 with 1 Axes>"
      ]
     },
     "metadata": {
      "needs_background": "light"
     },
     "output_type": "display_data"
    }
   ],
   "source": [
    "type_count = df.type_1.value_counts()\n",
    "sb.countplot(data=df, y='type_1', color=base_color, order=type_count.index);"
   ]
  },
  {
   "cell_type": "markdown",
   "id": "62f4e1ea",
   "metadata": {},
   "source": [
    "With relative frequencies instead of absolute frequencies"
   ]
  },
  {
   "cell_type": "code",
   "execution_count": 5,
   "id": "8e554aea",
   "metadata": {},
   "outputs": [
    {
     "data": {
      "text/html": [
       "<div>\n",
       "<style scoped>\n",
       "    .dataframe tbody tr th:only-of-type {\n",
       "        vertical-align: middle;\n",
       "    }\n",
       "\n",
       "    .dataframe tbody tr th {\n",
       "        vertical-align: top;\n",
       "    }\n",
       "\n",
       "    .dataframe thead th {\n",
       "        text-align: right;\n",
       "    }\n",
       "</style>\n",
       "<table border=\"1\" class=\"dataframe\">\n",
       "  <thead>\n",
       "    <tr style=\"text-align: right;\">\n",
       "      <th></th>\n",
       "      <th>id</th>\n",
       "      <th>species</th>\n",
       "      <th>generation_id</th>\n",
       "      <th>height</th>\n",
       "      <th>weight</th>\n",
       "      <th>base_experience</th>\n",
       "      <th>type_1</th>\n",
       "      <th>type_2</th>\n",
       "      <th>hp</th>\n",
       "      <th>attack</th>\n",
       "      <th>defense</th>\n",
       "      <th>speed</th>\n",
       "      <th>special-attack</th>\n",
       "      <th>special-defense</th>\n",
       "    </tr>\n",
       "  </thead>\n",
       "  <tbody>\n",
       "    <tr>\n",
       "      <th>0</th>\n",
       "      <td>1</td>\n",
       "      <td>bulbasaur</td>\n",
       "      <td>1</td>\n",
       "      <td>0.7</td>\n",
       "      <td>6.9</td>\n",
       "      <td>64</td>\n",
       "      <td>grass</td>\n",
       "      <td>poison</td>\n",
       "      <td>45</td>\n",
       "      <td>49</td>\n",
       "      <td>49</td>\n",
       "      <td>45</td>\n",
       "      <td>65</td>\n",
       "      <td>65</td>\n",
       "    </tr>\n",
       "    <tr>\n",
       "      <th>1</th>\n",
       "      <td>2</td>\n",
       "      <td>ivysaur</td>\n",
       "      <td>1</td>\n",
       "      <td>1.0</td>\n",
       "      <td>13.0</td>\n",
       "      <td>142</td>\n",
       "      <td>grass</td>\n",
       "      <td>poison</td>\n",
       "      <td>60</td>\n",
       "      <td>62</td>\n",
       "      <td>63</td>\n",
       "      <td>60</td>\n",
       "      <td>80</td>\n",
       "      <td>80</td>\n",
       "    </tr>\n",
       "    <tr>\n",
       "      <th>2</th>\n",
       "      <td>3</td>\n",
       "      <td>venusaur</td>\n",
       "      <td>1</td>\n",
       "      <td>2.0</td>\n",
       "      <td>100.0</td>\n",
       "      <td>236</td>\n",
       "      <td>grass</td>\n",
       "      <td>poison</td>\n",
       "      <td>80</td>\n",
       "      <td>82</td>\n",
       "      <td>83</td>\n",
       "      <td>80</td>\n",
       "      <td>100</td>\n",
       "      <td>100</td>\n",
       "    </tr>\n",
       "  </tbody>\n",
       "</table>\n",
       "</div>"
      ],
      "text/plain": [
       "   id    species  generation_id  height  weight  base_experience type_1  \\\n",
       "0   1  bulbasaur              1     0.7     6.9               64  grass   \n",
       "1   2    ivysaur              1     1.0    13.0              142  grass   \n",
       "2   3   venusaur              1     2.0   100.0              236  grass   \n",
       "\n",
       "   type_2  hp  attack  defense  speed  special-attack  special-defense  \n",
       "0  poison  45      49       49     45              65               65  \n",
       "1  poison  60      62       63     60              80               80  \n",
       "2  poison  80      82       83     80             100              100  "
      ]
     },
     "execution_count": 5,
     "metadata": {},
     "output_type": "execute_result"
    }
   ],
   "source": [
    "df.head(3)"
   ]
  },
  {
   "cell_type": "code",
   "execution_count": 44,
   "id": "4bcba029",
   "metadata": {},
   "outputs": [
    {
     "data": {
      "text/html": [
       "<div>\n",
       "<style scoped>\n",
       "    .dataframe tbody tr th:only-of-type {\n",
       "        vertical-align: middle;\n",
       "    }\n",
       "\n",
       "    .dataframe tbody tr th {\n",
       "        vertical-align: top;\n",
       "    }\n",
       "\n",
       "    .dataframe thead th {\n",
       "        text-align: right;\n",
       "    }\n",
       "</style>\n",
       "<table border=\"1\" class=\"dataframe\">\n",
       "  <thead>\n",
       "    <tr style=\"text-align: right;\">\n",
       "      <th></th>\n",
       "      <th>id</th>\n",
       "      <th>species</th>\n",
       "      <th>type_level</th>\n",
       "      <th>type</th>\n",
       "    </tr>\n",
       "  </thead>\n",
       "  <tbody>\n",
       "    <tr>\n",
       "      <th>0</th>\n",
       "      <td>1</td>\n",
       "      <td>bulbasaur</td>\n",
       "      <td>type_1</td>\n",
       "      <td>grass</td>\n",
       "    </tr>\n",
       "    <tr>\n",
       "      <th>1</th>\n",
       "      <td>2</td>\n",
       "      <td>ivysaur</td>\n",
       "      <td>type_1</td>\n",
       "      <td>grass</td>\n",
       "    </tr>\n",
       "    <tr>\n",
       "      <th>2</th>\n",
       "      <td>3</td>\n",
       "      <td>venusaur</td>\n",
       "      <td>type_1</td>\n",
       "      <td>grass</td>\n",
       "    </tr>\n",
       "    <tr>\n",
       "      <th>3</th>\n",
       "      <td>4</td>\n",
       "      <td>charmander</td>\n",
       "      <td>type_1</td>\n",
       "      <td>fire</td>\n",
       "    </tr>\n",
       "    <tr>\n",
       "      <th>4</th>\n",
       "      <td>5</td>\n",
       "      <td>charmeleon</td>\n",
       "      <td>type_1</td>\n",
       "      <td>fire</td>\n",
       "    </tr>\n",
       "    <tr>\n",
       "      <th>...</th>\n",
       "      <td>...</td>\n",
       "      <td>...</td>\n",
       "      <td>...</td>\n",
       "      <td>...</td>\n",
       "    </tr>\n",
       "    <tr>\n",
       "      <th>1609</th>\n",
       "      <td>803</td>\n",
       "      <td>poipole</td>\n",
       "      <td>type_2</td>\n",
       "      <td>NaN</td>\n",
       "    </tr>\n",
       "    <tr>\n",
       "      <th>1610</th>\n",
       "      <td>804</td>\n",
       "      <td>naganadel</td>\n",
       "      <td>type_2</td>\n",
       "      <td>dragon</td>\n",
       "    </tr>\n",
       "    <tr>\n",
       "      <th>1611</th>\n",
       "      <td>805</td>\n",
       "      <td>stakataka</td>\n",
       "      <td>type_2</td>\n",
       "      <td>steel</td>\n",
       "    </tr>\n",
       "    <tr>\n",
       "      <th>1612</th>\n",
       "      <td>806</td>\n",
       "      <td>blacephalon</td>\n",
       "      <td>type_2</td>\n",
       "      <td>ghost</td>\n",
       "    </tr>\n",
       "    <tr>\n",
       "      <th>1613</th>\n",
       "      <td>807</td>\n",
       "      <td>zeraora</td>\n",
       "      <td>type_2</td>\n",
       "      <td>NaN</td>\n",
       "    </tr>\n",
       "  </tbody>\n",
       "</table>\n",
       "<p>1614 rows × 4 columns</p>\n",
       "</div>"
      ],
      "text/plain": [
       "       id      species type_level    type\n",
       "0       1    bulbasaur     type_1   grass\n",
       "1       2      ivysaur     type_1   grass\n",
       "2       3     venusaur     type_1   grass\n",
       "3       4   charmander     type_1    fire\n",
       "4       5   charmeleon     type_1    fire\n",
       "...   ...          ...        ...     ...\n",
       "1609  803      poipole     type_2     NaN\n",
       "1610  804    naganadel     type_2  dragon\n",
       "1611  805    stakataka     type_2   steel\n",
       "1612  806  blacephalon     type_2   ghost\n",
       "1613  807      zeraora     type_2     NaN\n",
       "\n",
       "[1614 rows x 4 columns]"
      ]
     },
     "execution_count": 44,
     "metadata": {},
     "output_type": "execute_result"
    }
   ],
   "source": [
    "pkmn_types = df.melt(id_vars = ['id', 'species'],\n",
    "                     value_vars = ['type_1', 'type_2'],\n",
    "                     var_name = 'type_level',\n",
    "                     value_name = 'type'\n",
    "                    )#.dropna()\n",
    "pkmn_types"
   ]
  },
  {
   "cell_type": "code",
   "execution_count": 45,
   "id": "018c04c0",
   "metadata": {
    "scrolled": true
   },
   "outputs": [
    {
     "data": {
      "text/plain": [
       "water       131\n",
       "normal      109\n",
       "flying       98\n",
       "grass        97\n",
       "psychic      82\n",
       "bug          77\n",
       "poison       66\n",
       "ground       64\n",
       "fire         64\n",
       "rock         60\n",
       "fighting     54\n",
       "electric     48\n",
       "fairy        47\n",
       "steel        47\n",
       "dark         46\n",
       "dragon       45\n",
       "ghost        43\n",
       "ice          34\n",
       "Name: type, dtype: int64"
      ]
     },
     "execution_count": 45,
     "metadata": {},
     "output_type": "execute_result"
    }
   ],
   "source": [
    "type_counts = pkmn_types.type.value_counts()\n",
    "type_counts"
   ]
  },
  {
   "cell_type": "code",
   "execution_count": 46,
   "id": "33206bec",
   "metadata": {},
   "outputs": [
    {
     "data": {
      "image/png": "[encoded data removed]",
      "text/plain": [
       "<Figure size 432x288 with 1 Axes>"
      ]
     },
     "metadata": {
      "needs_background": "light"
     },
     "output_type": "display_data"
    }
   ],
   "source": [
    "sb.countplot(data=pkmn_types, y='type', color=base_color, order=type_counts.index);"
   ]
  },
  {
   "cell_type": "code",
   "execution_count": 41,
   "id": "6df6b01e",
   "metadata": {},
   "outputs": [
    {
     "name": "stdout",
     "output_type": "stream",
     "text": [
      "0.10808580858085809\n"
     ]
    }
   ],
   "source": [
    "# Retourner la somme de toutes les valeurs non nulles de la colonne « type »\n",
    "n_pokemon = pkmn_types['type'].value_counts().sum()\n",
    "\n",
    "# Retourner la fréquence la plus élevée dans la colonne « type »\n",
    "max_type_count = type_counts[0]\n",
    "\n",
    "# Retourner la proportion maximale, ou en d'autres termes,\n",
    "# calculer la longueur de la barre la plus longue en fonction de la proportion\n",
    "max_prop = max_type_count / n_pokemon\n",
    "print(max_prop)"
   ]
  },
  {
   "cell_type": "code",
   "execution_count": 47,
   "id": "c47b2bb6",
   "metadata": {},
   "outputs": [
    {
     "data": {
      "text/plain": [
       "array([0.  , 0.02, 0.04, 0.06, 0.08, 0.1 ])"
      ]
     },
     "execution_count": 47,
     "metadata": {},
     "output_type": "execute_result"
    }
   ],
   "source": [
    "# Utiliser la fonction numpy.arange() pour produire un ensemble de valeurs proportionnelles uniformément espacées\n",
    "# entre 0 et max_prop, avec un pas de 2\\%.\n",
    "tick_props = np.arange(0, max_prop, 0.02)\n",
    "tick_props"
   ]
  },
  {
   "cell_type": "code",
   "execution_count": 48,
   "id": "d234c70a",
   "metadata": {},
   "outputs": [
    {
     "data": {
      "text/plain": [
       "['0.00', '0.02', '0.04', '0.06', '0.08', '0.10']"
      ]
     },
     "execution_count": 48,
     "metadata": {},
     "output_type": "execute_result"
    }
   ],
   "source": [
    "tick_names = ['{:0.2f}'.format(v) for v in tick_props]\n",
    "tick_names"
   ]
  },
  {
   "cell_type": "code",
   "execution_count": 55,
   "id": "923bc051",
   "metadata": {},
   "outputs": [
    {
     "data": {
      "image/png": "[encoded data removed]",
      "text/plain": [
       "<Figure size 432x288 with 1 Axes>"
      ]
     },
     "metadata": {
      "needs_background": "light"
     },
     "output_type": "display_data"
    }
   ],
   "source": [
    "sb.countplot(data=pkmn_types, y='type', color=base_color, order=type_counts.index);\n",
    "plt.xticks(tick_props * n_pokemon, tick_names) \n",
    "plt.xlabel('proportion');"
   ]
  },
  {
   "cell_type": "markdown",
   "id": "4ef37cbb",
   "metadata": {},
   "source": [
    "Si je veux plutôt les counts sur les axes avec également les proportions sur la figure : "
   ]
  },
  {
   "cell_type": "code",
   "execution_count": 65,
   "id": "ab85e022",
   "metadata": {},
   "outputs": [
    {
     "data": {
      "text/plain": [
       "True"
      ]
     },
     "execution_count": 65,
     "metadata": {},
     "output_type": "execute_result"
    }
   ],
   "source": [
    "type_counts[0] == type_counts['water']"
   ]
  },
  {
   "cell_type": "code",
   "execution_count": 64,
   "id": "5153c011",
   "metadata": {},
   "outputs": [
    {
     "data": {
      "image/png": "[encoded data removed]",
      "text/plain": [
       "<Figure size 432x288 with 1 Axes>"
      ]
     },
     "metadata": {
      "needs_background": "light"
     },
     "output_type": "display_data"
    }
   ],
   "source": [
    "sb.countplot(data=pkmn_types, y='type', color=base_color, order=type_counts.index)\n",
    "\n",
    "for i in range(len(type_counts)): # or type_counts.shape[0]\n",
    "    prct_str = '{:0.1f}'.format((100 * type_counts[i])/n_pokemon)\n",
    "    plt.text(type_counts[i]+1, i, prct_str, va='center')"
   ]
  },
  {
   "cell_type": "markdown",
   "id": "51ee8047",
   "metadata": {},
   "source": [
    "## Some Quantitative Variables"
   ]
  },
  {
   "cell_type": "markdown",
   "id": "50f63573",
   "metadata": {},
   "source": [
    "#### speed"
   ]
  },
  {
   "cell_type": "code",
   "execution_count": 3,
   "id": "0527394a",
   "metadata": {
    "scrolled": true
   },
   "outputs": [
    {
     "data": {
      "text/plain": [
       "(array([ 31.,  93., 163., 159., 128., 115.,  81.,  26.,   6.,   5.]),\n",
       " array([  5. ,  20.5,  36. ,  51.5,  67. ,  82.5,  98. , 113.5, 129. ,\n",
       "        144.5, 160. ]),\n",
       " <BarContainer object of 10 artists>)"
      ]
     },
     "execution_count": 3,
     "metadata": {},
     "output_type": "execute_result"
    },
    {
     "data": {
      "image/png": "[encoded data removed]",
      "text/plain": [
       "<Figure size 432x288 with 1 Axes>"
      ]
     },
     "metadata": {
      "needs_background": "light"
     },
     "output_type": "display_data"
    }
   ],
   "source": [
    "plt.hist(data=df, x='speed')"
   ]
  },
  {
   "cell_type": "code",
   "execution_count": 8,
   "id": "9514807c",
   "metadata": {},
   "outputs": [
    {
     "data": {
      "image/png": "[encoded data removed]",
      "text/plain": [
       "<Figure size 432x288 with 1 Axes>"
      ]
     },
     "metadata": {
      "needs_background": "light"
     },
     "output_type": "display_data"
    }
   ],
   "source": [
    "bins = np.arange(0, df['speed'].max()+5, 5)\n",
    "plt.hist(data=df, x='speed', bins=bins);"
   ]
  },
  {
   "cell_type": "code",
   "execution_count": 42,
   "id": "927bba1e",
   "metadata": {},
   "outputs": [
    {
     "data": {
      "image/png": "[encoded data removed]",
      "text/plain": [
       "<Figure size 1440x360 with 2 Axes>"
      ]
     },
     "metadata": {
      "needs_background": "light"
     },
     "output_type": "display_data"
    }
   ],
   "source": [
    "# créer des subplots pour voir la taille de bins appropriée\n",
    "plt.figure(figsize=[20, 5])\n",
    "\n",
    "plt.subplot(1, 2, 1)\n",
    "bins = np.arange(0, df['speed'].max()+1/4, 1/4)\n",
    "plt.hist(data=df, x='speed', bins=bins);\n",
    "\n",
    "plt.subplot(1, 2, 2)\n",
    "bins = np.arange(0, df['speed'].max()+4, 4)\n",
    "plt.hist(data=df, x='speed', bins=bins);"
   ]
  },
  {
   "cell_type": "code",
   "execution_count": 37,
   "id": "894f0586",
   "metadata": {},
   "outputs": [
    {
     "data": {
      "image/png": "[encoded data removed]",
      "text/plain": [
       "<Figure size 576x360 with 1 Axes>"
      ]
     },
     "metadata": {},
     "output_type": "display_data"
    }
   ],
   "source": [
    "fig = plt.figure(figsize=[8, 5], facecolor='pink')\n",
    "ax = fig.add_axes([.7, .3, 1., 1.])\n",
    "bins = np.arange(0, df['speed'].max()+4, 4)\n",
    "ax.hist(data=df, x='speed', bins=bins);"
   ]
  },
  {
   "cell_type": "code",
   "execution_count": 26,
   "id": "3318e622",
   "metadata": {},
   "outputs": [
    {
     "data": {
      "image/png": "[encoded data removed]",
      "text/plain": [
       "<Figure size 576x360 with 1 Axes>"
      ]
     },
     "metadata": {},
     "output_type": "display_data"
    }
   ],
   "source": [
    "fig = plt.figure(figsize=[8, 5], facecolor='pink')\n",
    "ax = fig.add_axes([.125, .125, .775, .755])\n",
    "bins = np.arange(0, df['speed'].max()+4, 4)\n",
    "plt.hist(data=df, x='speed', bins=bins);"
   ]
  },
  {
   "cell_type": "markdown",
   "id": "0dab2a97",
   "metadata": {},
   "source": [
    "#### height"
   ]
  },
  {
   "cell_type": "code",
   "execution_count": 47,
   "id": "31220c4a",
   "metadata": {},
   "outputs": [
    {
     "data": {
      "image/png": "[encoded data removed]",
      "text/plain": [
       "<Figure size 1440x360 with 2 Axes>"
      ]
     },
     "metadata": {
      "needs_background": "light"
     },
     "output_type": "display_data"
    }
   ],
   "source": [
    "plt.figure(figsize=[20, 5])\n",
    "\n",
    "plt.subplot(1, 2, 1)\n",
    "bins = np.arange(0, df['height'].max() + .5, .5)\n",
    "plt.hist(data=df, x='height', bins=bins)\n",
    "\n",
    "plt.subplot(1, 2, 2)\n",
    "bins = np.arange(0, df['height'].max() + .2, .2)\n",
    "plt.hist(data=df, x='height', bins=bins)\n",
    "plt.xlim(0, 6);"
   ]
  },
  {
   "cell_type": "code",
   "execution_count": null,
   "id": "56580fc4",
   "metadata": {},
   "outputs": [],
   "source": []
  },
  {
   "cell_type": "code",
   "execution_count": null,
   "id": "4571e1cf",
   "metadata": {},
   "outputs": [],
   "source": []
  },
  {
   "cell_type": "code",
   "execution_count": null,
   "id": "f85246c4",
   "metadata": {},
   "outputs": [],
   "source": []
  }
 ],
 "metadata": {
  "kernelspec": {
   "display_name": "Python 3 (ipykernel)",
   "language": "python",
   "name": "python3"
  },
  "language_info": {
   "codemirror_mode": {
    "name": "ipython",
    "version": 3
   },
   "file_extension": ".py",
   "mimetype": "text/x-python",
   "name": "python",
   "nbconvert_exporter": "python",
   "pygments_lexer": "ipython3",
   "version": "3.8.0"
  }
 },
 "nbformat": 4,
 "nbformat_minor": 5
}
